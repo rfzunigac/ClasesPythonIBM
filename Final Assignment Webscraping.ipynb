{
 "cells": [
  {
   "cell_type": "markdown",
   "metadata": {},
   "source": [
    "<center>\n",
    "    <img src=\"https://cf-courses-data.s3.us.cloud-object-storage.appdomain.cloud/IBMDeveloperSkillsNetwork-PY0220EN-SkillsNetwork/labs/project/Images/SN_logo.png\" width=\"300\" alt=\"cognitiveclass.ai logo\">\n",
    "</center>\n"
   ]
  },
  {
   "cell_type": "markdown",
   "metadata": {},
   "source": [
    "<h1>Extracting Stock Data Using a Web Scraping</h1>\n"
   ]
  },
  {
   "cell_type": "markdown",
   "metadata": {},
   "source": [
    "Not all stock data is available via the API in this assignment; you will use web-scraping to obtain financial data. You will be quizzed on your results.  \n",
    " You will extract and share historical data from a web page using the BeautifulSoup library.\n"
   ]
  },
  {
   "cell_type": "markdown",
   "metadata": {},
   "source": [
    "<h2>Table of Contents</h2>\n",
    "<div class=\"alert alert-block alert-info\" style=\"margin-top: 20px\">\n",
    "    \n",
    "1. Extracting data using BeautifulSoup\n",
    "   \n",
    "    <ul> \n",
    "    <li> Download the web page Using Requests Library </li>\n",
    "    <li> Parse HTML on a web page using BeautifulSoup </li>\n",
    "    <li> Extract data and duild a data frame </li>\n",
    "\n",
    "    </ul>\n",
    "\n",
    "2. Extracting data using pandas\n",
    "3. Exercise\n",
    "<p>\n",
    "    Estimated Time Needed: <strong>30 min</strong></p>\n",
    "</div>\n",
    "\n",
    "<hr>\n"
   ]
  },
  {
   "cell_type": "code",
   "execution_count": null,
   "metadata": {
    "tags": []
   },
   "outputs": [],
   "source": [
    "#!pip install pandas==1.3.3\n",
    "#!pip install requests==2.26.0\n",
    "!mamba install bs4==4.10.0 -y\n",
    "!mamba install html5lib==1.1 -y \n",
    "!pip install lxml==4.6.4\n",
    "#!pip install plotly==5.3.1"
   ]
  },
  {
   "cell_type": "code",
   "execution_count": 3,
   "metadata": {
    "tags": []
   },
   "outputs": [],
   "source": [
    "import pandas as pd\n",
    "import requests\n",
    "from bs4 import BeautifulSoup"
   ]
  },
  {
   "cell_type": "markdown",
   "metadata": {},
   "source": [
    "In Python, you can ignore warnings using the warnings module. You can use the filterwarnings function to filter or ignore specific warning messages or categories.\n"
   ]
  },
  {
   "cell_type": "code",
   "execution_count": 4,
   "metadata": {
    "tags": []
   },
   "outputs": [],
   "source": [
    "import warnings\n",
    "# Ignore all warnings\n",
    "warnings.filterwarnings(\"ignore\", category=FutureWarning)"
   ]
  },
  {
   "cell_type": "markdown",
   "metadata": {},
   "source": [
    "## Using Webscraping to Extract Stock Data Example\n"
   ]
  },
  {
   "cell_type": "markdown",
   "metadata": {},
   "source": [
    "We will extract Netflix stock data [https://cf-courses-data.s3.us.cloud-object-storage.appdomain.cloud/IBMDeveloperSkillsNetwork-PY0220EN-SkillsNetwork/labs/project/netflix_data_webpage.html](https://cf-courses-data.s3.us.cloud-object-storage.appdomain.cloud/IBMDeveloperSkillsNetwork-PY0220EN-SkillsNetwork/labs/project/netflix_data_webpage.html).\n"
   ]
  },
  {
   "cell_type": "markdown",
   "metadata": {},
   "source": [
    "<center> \n",
    "    \n",
    "#### In this example, we are using yahoo finance website and looking to extract Netflix data.\n",
    "\n",
    "</center>\n",
    "    <br>\n",
    "\n",
    "  <img src=\"https://cf-courses-data.s3.us.cloud-object-storage.appdomain.cloud/IBMDeveloperSkillsNetwork-PY0220EN-SkillsNetwork/labs/project/Images/netflix.png\"> </center> \n",
    "  \n",
    "<center> Fig:- Table that we need to extract </center>\n"
   ]
  },
  {
   "cell_type": "markdown",
   "metadata": {},
   "source": [
    "On the following web page we have a table with columns name (Date, Open, High, Low, close, adj close volume) out of which we must extract following columns  \n",
    "\n",
    "* Date \n",
    "\n",
    "* Open  \n",
    "\n",
    "* High \n",
    "\n",
    "* Low \n",
    "\n",
    "* Close \n",
    "\n",
    "* Volume \n",
    "\n"
   ]
  },
  {
   "cell_type": "markdown",
   "metadata": {},
   "source": [
    "# Steps for extracting the data\n",
    "1. Send an HTTP request to the web page using the requests library.\n",
    "2. Parse the HTML content of the web page using BeautifulSoup.\n",
    "3. Identify the HTML tags that contain the data you want to extract.\n",
    "4. Use BeautifulSoup methods to extract the data from the HTML tags.\n",
    "5. Print the extracted data\n"
   ]
  },
  {
   "cell_type": "markdown",
   "metadata": {},
   "source": [
    "### Step 1: Send an HTTP request to the web page\n"
   ]
  },
  {
   "cell_type": "markdown",
   "metadata": {},
   "source": [
    "You will use the request library for sending an HTTP request to the web page.<br>\n"
   ]
  },
  {
   "cell_type": "code",
   "execution_count": 5,
   "metadata": {
    "tags": []
   },
   "outputs": [],
   "source": [
    "url = \"https://cf-courses-data.s3.us.cloud-object-storage.appdomain.cloud/IBMDeveloperSkillsNetwork-PY0220EN-SkillsNetwork/labs/project/netflix_data_webpage.html\""
   ]
  },
  {
   "cell_type": "markdown",
   "metadata": {},
   "source": [
    "The requests.get() method takes a URL as its first argument, which specifies the location of the resource to be retrieved. In this case, the value of the url variable is passed as the argument to the requests.get() method, because you will store a web page URL in a url variable.\n",
    "\n",
    "You use the .text method for extracting the HTML content as a string in order to make it readable.\n"
   ]
  },
  {
   "cell_type": "code",
   "execution_count": null,
   "metadata": {
    "tags": []
   },
   "outputs": [],
   "source": [
    "data  = requests.get(url).text\n",
    "print(data)"
   ]
  },
  {
   "cell_type": "markdown",
   "metadata": {},
   "source": [
    "### Step 2: Parse the HTML content\n"
   ]
  },
  {
   "cell_type": "markdown",
   "metadata": {},
   "source": [
    "<hr>\n",
    "<hr>\n",
    "<center>\n",
    "\n",
    "# What is parsing?\n",
    "In simple words, parsing refers to the process of analyzing a string of text or a data structure, usually following a set of rules or grammar, to understand its structure and meaning.\n",
    "Parsing involves breaking down a piece of text or data into its individual components or elements, and then analyzing those components to extract the desired information or to understand their relationships and meanings.</center>\n",
    "<hr>\n",
    "<hr>\n"
   ]
  },
  {
   "cell_type": "markdown",
   "metadata": {},
   "source": [
    "Next you will take the raw HTML content of a web page or a string of HTML code which needs to be parsed and transformed into a structured, hierarchical format that can be more easily analyzed and manipulated in Python. This can be done using a Python library called <b>Beautiful Soup</b>.\n"
   ]
  },
  {
   "cell_type": "markdown",
   "metadata": {},
   "source": [
    "## Parsing the data using the BeautifulSoup library\n",
    "* Create a new BeautifulSoup object.\n",
    "<br>\n",
    "<br>\n",
    "<b>Note: </b>To create a BeautifulSoup object in Python, you need to pass two arguments to its constructor:\n",
    "\n",
    "1. The HTML or XML content that you want to parse as a string.\n",
    "2. The name of the parser that you want to use to parse the HTML or XML content. This argument is optional, and if you don't specify a parser, BeautifulSoup will use the default HTML parser included with the library.\n",
    "here in this lab we are using \"html5lib\" parser.\n"
   ]
  },
  {
   "cell_type": "code",
   "execution_count": 8,
   "metadata": {
    "tags": []
   },
   "outputs": [],
   "source": [
    "soup = BeautifulSoup(data, 'html.parser')"
   ]
  },
  {
   "cell_type": "markdown",
   "metadata": {},
   "source": [
    "### Step 3: Identify the HTML tags\n"
   ]
  },
  {
   "cell_type": "markdown",
   "metadata": {},
   "source": [
    "As stated above, the web page consists of a table so, we will scrape the content of the HTML web page and convert the table into a data frame.\n"
   ]
  },
  {
   "cell_type": "markdown",
   "metadata": {},
   "source": [
    "You will create an empty data frame using the <b> pd.DataFrame() </b> function with the following columns:\n",
    "* \"Date\"\n",
    "* \"Open\"\n",
    "* \"High\" \n",
    "* \"Low\" \n",
    "* \"Close\"\n",
    "* \"Volume\"\n"
   ]
  },
  {
   "cell_type": "code",
   "execution_count": null,
   "metadata": {
    "tags": []
   },
   "outputs": [],
   "source": [
    "netflix_data = pd.DataFrame(columns=[\"Date\", \"Open\", \"High\", \"Low\", \"Close\", \"Volume\"])"
   ]
  },
  {
   "cell_type": "markdown",
   "metadata": {},
   "source": [
    "<hr>\n",
    "<hr>\n",
    "<center>\n",
    "\n",
    "### Working on HTML table  </center>\n",
    "<br>\n",
    "\n",
    "These are the following tags which are used while creating HTML tables.\n",
    "\n",
    "* &lt;table&gt;: This tag is a root tag used to define the start and end of the table. All the content of the table is enclosed within these tags. \n",
    "\n",
    "\n",
    "* &lt;tr&gt;: This tag is used to define a table row. Each row of the table is defined within this tag.\n",
    "\n",
    "* &lt;td&gt;: This tag is used to define a table cell. Each cell of the table is defined within this tag. You can specify the content of the cell between the opening and closing <td> tags.\n",
    "\n",
    "* &lt;th&gt;: This tag is used to define a header cell in the table. The header cell is used to describe the contents of a column or row. By default, the text inside a <th> tag is bold and centered.\n",
    "\n",
    "* &lt;tbody&gt;: This is the main content of the table, which is defined using the <tbody> tag. It contains one or more rows of <tr> elements.\n",
    "\n",
    "<hr>\n",
    "<hr>\n",
    "\n"
   ]
  },
  {
   "cell_type": "markdown",
   "metadata": {},
   "source": [
    "### Step 4: Use a BeautifulSoup method for extracting data\n"
   ]
  },
  {
   "cell_type": "markdown",
   "metadata": {},
   "source": [
    "\n",
    "We will use <b>find()</b> and <b>find_all()</b> methods of the BeautifulSoup object to locate the table body and table row respectively in the HTML. \n",
    "   * The <i>find() method </i> will return particular tag content.\n",
    "   * The <i>find_all()</i> method returns a list of all matching tags in the HTML.\n"
   ]
  },
  {
   "cell_type": "code",
   "execution_count": null,
   "metadata": {
    "tags": []
   },
   "outputs": [],
   "source": [
    "# First we isolate the body of the table which contains all the information\n",
    "# Then we loop through each row and find all the column values for each row\n",
    "for row in soup.find(\"tbody\").find_all('tr'):\n",
    "    col = row.find_all(\"td\")\n",
    "    date = col[0].text\n",
    "    Open = col[1].text\n",
    "    high = col[2].text\n",
    "    low = col[3].text\n",
    "    close = col[4].text\n",
    "    adj_close = col[5].text\n",
    "    volume = col[6].text\n",
    "    \n",
    "    # Finally we append the data of each row to the table\n",
    "    netflix_data = netflix_data.append({\"Date\":date, \"Open\":Open, \"High\":high, \"Low\":low, \"Close\":close, \"Adj Close\":adj_close, \"Volume\":volume}, ignore_index=True)    "
   ]
  },
  {
   "cell_type": "markdown",
   "metadata": {},
   "source": [
    "### Step 5: Print the extracted data\n"
   ]
  },
  {
   "cell_type": "markdown",
   "metadata": {},
   "source": [
    "We can now print out the data frame using the head() or tail() function.\n"
   ]
  },
  {
   "cell_type": "code",
   "execution_count": null,
   "metadata": {
    "tags": []
   },
   "outputs": [],
   "source": [
    "netflix_data.head()"
   ]
  },
  {
   "cell_type": "markdown",
   "metadata": {},
   "source": [
    "# Extracting data using `pandas` library\n"
   ]
  },
  {
   "cell_type": "markdown",
   "metadata": {},
   "source": [
    "We can also use the pandas `read_html` function from the pandas library and use the URL for extracting data.\n"
   ]
  },
  {
   "cell_type": "markdown",
   "metadata": {},
   "source": [
    "<center>\n",
    "\n",
    "## What is read_html in pandas library?\n",
    "`pd.read_html(url)` is a function provided by the pandas library in Python that is used to extract tables from HTML web pages. It takes in a URL as input and returns a list of all the tables found on the web page. \n",
    "</center>\n"
   ]
  },
  {
   "cell_type": "code",
   "execution_count": null,
   "metadata": {
    "tags": []
   },
   "outputs": [],
   "source": [
    "read_html_pandas_data = pd.read_html(url)"
   ]
  },
  {
   "cell_type": "markdown",
   "metadata": {},
   "source": [
    "Or you can convert the BeautifulSoup object to a string.\n"
   ]
  },
  {
   "cell_type": "code",
   "execution_count": null,
   "metadata": {
    "tags": []
   },
   "outputs": [],
   "source": [
    "read_html_pandas_data = pd.read_html(str(soup))"
   ]
  },
  {
   "cell_type": "markdown",
   "metadata": {},
   "source": [
    "Because there is only one table on the page, just take the first table in the returned list.\n"
   ]
  },
  {
   "cell_type": "code",
   "execution_count": null,
   "metadata": {
    "tags": []
   },
   "outputs": [],
   "source": [
    "netflix_dataframe = read_html_pandas_data[0]\n",
    "\n",
    "netflix_dataframe.head()"
   ]
  },
  {
   "cell_type": "markdown",
   "metadata": {},
   "source": [
    "# Exercise: use webscraping to extract stock data\n"
   ]
  },
  {
   "cell_type": "markdown",
   "metadata": {},
   "source": [
    "Use the `requests` library to download the webpage [https://cf-courses-data.s3.us.cloud-object-storage.appdomain.cloud/IBMDeveloperSkillsNetwork-PY0220EN-SkillsNetwork/labs/project/amazon_data_webpage.html](https://cf-courses-data.s3.us.cloud-object-storage.appdomain.cloud/IBMDeveloperSkillsNetwork-PY0220EN-SkillsNetwork/labs/project/amazon_data_webpage.html). Save the text of the response as a variable named `html_data`.\n"
   ]
  },
  {
   "cell_type": "code",
   "execution_count": 18,
   "metadata": {
    "tags": []
   },
   "outputs": [],
   "source": [
    "url = 'https://cf-courses-data.s3.us.cloud-object-storage.appdomain.cloud/IBMDeveloperSkillsNetwork-PY0220EN-SkillsNetwork/labs/project/amazon_data_webpage.html'\n",
    "data  = requests.get(url).text"
   ]
  },
  {
   "cell_type": "markdown",
   "metadata": {},
   "source": [
    "Parse the html data using `beautiful_soup`.\n"
   ]
  },
  {
   "cell_type": "code",
   "execution_count": 19,
   "metadata": {
    "tags": []
   },
   "outputs": [],
   "source": [
    "soup = BeautifulSoup(data, 'html.parser')"
   ]
  },
  {
   "cell_type": "markdown",
   "metadata": {},
   "source": [
    "<b>Question 1:</b> What is the content of the title attribute?\n"
   ]
  },
  {
   "cell_type": "code",
   "execution_count": 20,
   "metadata": {
    "tags": []
   },
   "outputs": [
    {
     "data": {
      "text/plain": [
       "'Amazon.com, Inc. (AMZN) Stock Historical Prices & Data - Yahoo Finance'"
      ]
     },
     "execution_count": 20,
     "metadata": {},
     "output_type": "execute_result"
    }
   ],
   "source": [
    "title = soup.find('title')\n",
    "title.string"
   ]
  },
  {
   "cell_type": "markdown",
   "metadata": {},
   "source": [
    "Using BeautifulSoup, extract the table with historical share prices and store it into a data frame named `amazon_data`. The data frame should have columns Date, Open, High, Low, Close, Adj Close, and Volume. Fill in each variable with the correct data from the list `col`. \n"
   ]
  },
  {
   "cell_type": "code",
   "execution_count": 21,
   "metadata": {
    "tags": []
   },
   "outputs": [],
   "source": [
    "amazon_data = pd.DataFrame(columns=[\"Date\", \"Open\", \"High\", \"Low\", \"Close\", \"Adj Close\", \"Volume\"])\n",
    "\n",
    "for row in soup.find(\"tbody\").find_all(\"tr\"):\n",
    "    col = row.find_all(\"td\")\n",
    "    date = col[0] #ADD_CODE\n",
    "    Open = col[1] #ADD_CODE\n",
    "    high = col[2] #ADD_CODE\n",
    "    low = col[3] #ADD_CODE\n",
    "    close = col[4] #ADD_CODE\n",
    "    adj_close = col[5] #ADD_CODE\n",
    "    volume = col[6] #ADD_CODE\n",
    "    \n",
    "    amazon_data = amazon_data.append({\"Date\":date, \"Open\":Open, \"High\":high, \"Low\":low, \"Close\":close, \"Adj Close\":adj_close, \"Volume\":volume}, ignore_index=True)"
   ]
  },
  {
   "cell_type": "markdown",
   "metadata": {},
   "source": [
    "Print out the first five rows of the `amazon_data` data frame you created.\n"
   ]
  },
  {
   "cell_type": "code",
   "execution_count": 22,
   "metadata": {
    "tags": []
   },
   "outputs": [
    {
     "data": {
      "text/html": [
       "<div>\n",
       "<style scoped>\n",
       "    .dataframe tbody tr th:only-of-type {\n",
       "        vertical-align: middle;\n",
       "    }\n",
       "\n",
       "    .dataframe tbody tr th {\n",
       "        vertical-align: top;\n",
       "    }\n",
       "\n",
       "    .dataframe thead th {\n",
       "        text-align: right;\n",
       "    }\n",
       "</style>\n",
       "<table border=\"1\" class=\"dataframe\">\n",
       "  <thead>\n",
       "    <tr style=\"text-align: right;\">\n",
       "      <th></th>\n",
       "      <th>Date</th>\n",
       "      <th>Open</th>\n",
       "      <th>High</th>\n",
       "      <th>Low</th>\n",
       "      <th>Close</th>\n",
       "      <th>Adj Close</th>\n",
       "      <th>Volume</th>\n",
       "    </tr>\n",
       "  </thead>\n",
       "  <tbody>\n",
       "    <tr>\n",
       "      <th>0</th>\n",
       "      <td>[[Jan 01, 2021]]</td>\n",
       "      <td>[[3,270.00]]</td>\n",
       "      <td>[[3,363.89]]</td>\n",
       "      <td>[[3,086.00]]</td>\n",
       "      <td>[[3,206.20]]</td>\n",
       "      <td>[[3,206.20]]</td>\n",
       "      <td>[[71,528,900]]</td>\n",
       "    </tr>\n",
       "    <tr>\n",
       "      <th>1</th>\n",
       "      <td>[[Dec 01, 2020]]</td>\n",
       "      <td>[[3,188.50]]</td>\n",
       "      <td>[[3,350.65]]</td>\n",
       "      <td>[[3,072.82]]</td>\n",
       "      <td>[[3,256.93]]</td>\n",
       "      <td>[[3,256.93]]</td>\n",
       "      <td>[[77,556,200]]</td>\n",
       "    </tr>\n",
       "    <tr>\n",
       "      <th>2</th>\n",
       "      <td>[[Nov 01, 2020]]</td>\n",
       "      <td>[[3,061.74]]</td>\n",
       "      <td>[[3,366.80]]</td>\n",
       "      <td>[[2,950.12]]</td>\n",
       "      <td>[[3,168.04]]</td>\n",
       "      <td>[[3,168.04]]</td>\n",
       "      <td>[[90,810,500]]</td>\n",
       "    </tr>\n",
       "    <tr>\n",
       "      <th>3</th>\n",
       "      <td>[[Oct 01, 2020]]</td>\n",
       "      <td>[[3,208.00]]</td>\n",
       "      <td>[[3,496.24]]</td>\n",
       "      <td>[[3,019.00]]</td>\n",
       "      <td>[[3,036.15]]</td>\n",
       "      <td>[[3,036.15]]</td>\n",
       "      <td>[[116,226,100]]</td>\n",
       "    </tr>\n",
       "    <tr>\n",
       "      <th>4</th>\n",
       "      <td>[[Sep 01, 2020]]</td>\n",
       "      <td>[[3,489.58]]</td>\n",
       "      <td>[[3,552.25]]</td>\n",
       "      <td>[[2,871.00]]</td>\n",
       "      <td>[[3,148.73]]</td>\n",
       "      <td>[[3,148.73]]</td>\n",
       "      <td>[[115,899,300]]</td>\n",
       "    </tr>\n",
       "  </tbody>\n",
       "</table>\n",
       "</div>"
      ],
      "text/plain": [
       "               Date          Open          High           Low         Close  \\\n",
       "0  [[Jan 01, 2021]]  [[3,270.00]]  [[3,363.89]]  [[3,086.00]]  [[3,206.20]]   \n",
       "1  [[Dec 01, 2020]]  [[3,188.50]]  [[3,350.65]]  [[3,072.82]]  [[3,256.93]]   \n",
       "2  [[Nov 01, 2020]]  [[3,061.74]]  [[3,366.80]]  [[2,950.12]]  [[3,168.04]]   \n",
       "3  [[Oct 01, 2020]]  [[3,208.00]]  [[3,496.24]]  [[3,019.00]]  [[3,036.15]]   \n",
       "4  [[Sep 01, 2020]]  [[3,489.58]]  [[3,552.25]]  [[2,871.00]]  [[3,148.73]]   \n",
       "\n",
       "      Adj Close           Volume  \n",
       "0  [[3,206.20]]   [[71,528,900]]  \n",
       "1  [[3,256.93]]   [[77,556,200]]  \n",
       "2  [[3,168.04]]   [[90,810,500]]  \n",
       "3  [[3,036.15]]  [[116,226,100]]  \n",
       "4  [[3,148.73]]  [[115,899,300]]  "
      ]
     },
     "execution_count": 22,
     "metadata": {},
     "output_type": "execute_result"
    }
   ],
   "source": [
    "amazon_data.head()"
   ]
  },
  {
   "cell_type": "markdown",
   "metadata": {},
   "source": [
    "<b>Question 2:</b> What are the names of the columns in the data frame?\n"
   ]
  },
  {
   "cell_type": "code",
   "execution_count": null,
   "metadata": {
    "tags": []
   },
   "outputs": [],
   "source": [
    "\"Date\", \"Open\", \"High\", \"Low\", \"Close\", \"Adj Close\", \"Volume\""
   ]
  },
  {
   "cell_type": "markdown",
   "metadata": {},
   "source": [
    "<b>Question 3:</b> What is the `Open` of the last row of the amazon_data data frame?\n"
   ]
  },
  {
   "cell_type": "code",
   "execution_count": 23,
   "metadata": {
    "tags": []
   },
   "outputs": [
    {
     "data": {
      "text/html": [
       "<div>\n",
       "<style scoped>\n",
       "    .dataframe tbody tr th:only-of-type {\n",
       "        vertical-align: middle;\n",
       "    }\n",
       "\n",
       "    .dataframe tbody tr th {\n",
       "        vertical-align: top;\n",
       "    }\n",
       "\n",
       "    .dataframe thead th {\n",
       "        text-align: right;\n",
       "    }\n",
       "</style>\n",
       "<table border=\"1\" class=\"dataframe\">\n",
       "  <thead>\n",
       "    <tr style=\"text-align: right;\">\n",
       "      <th></th>\n",
       "      <th>Date</th>\n",
       "      <th>Open</th>\n",
       "      <th>High</th>\n",
       "      <th>Low</th>\n",
       "      <th>Close</th>\n",
       "      <th>Adj Close</th>\n",
       "      <th>Volume</th>\n",
       "    </tr>\n",
       "  </thead>\n",
       "  <tbody>\n",
       "    <tr>\n",
       "      <th>0</th>\n",
       "      <td>[[Jan 01, 2021]]</td>\n",
       "      <td>[[3,270.00]]</td>\n",
       "      <td>[[3,363.89]]</td>\n",
       "      <td>[[3,086.00]]</td>\n",
       "      <td>[[3,206.20]]</td>\n",
       "      <td>[[3,206.20]]</td>\n",
       "      <td>[[71,528,900]]</td>\n",
       "    </tr>\n",
       "    <tr>\n",
       "      <th>1</th>\n",
       "      <td>[[Dec 01, 2020]]</td>\n",
       "      <td>[[3,188.50]]</td>\n",
       "      <td>[[3,350.65]]</td>\n",
       "      <td>[[3,072.82]]</td>\n",
       "      <td>[[3,256.93]]</td>\n",
       "      <td>[[3,256.93]]</td>\n",
       "      <td>[[77,556,200]]</td>\n",
       "    </tr>\n",
       "    <tr>\n",
       "      <th>2</th>\n",
       "      <td>[[Nov 01, 2020]]</td>\n",
       "      <td>[[3,061.74]]</td>\n",
       "      <td>[[3,366.80]]</td>\n",
       "      <td>[[2,950.12]]</td>\n",
       "      <td>[[3,168.04]]</td>\n",
       "      <td>[[3,168.04]]</td>\n",
       "      <td>[[90,810,500]]</td>\n",
       "    </tr>\n",
       "    <tr>\n",
       "      <th>3</th>\n",
       "      <td>[[Oct 01, 2020]]</td>\n",
       "      <td>[[3,208.00]]</td>\n",
       "      <td>[[3,496.24]]</td>\n",
       "      <td>[[3,019.00]]</td>\n",
       "      <td>[[3,036.15]]</td>\n",
       "      <td>[[3,036.15]]</td>\n",
       "      <td>[[116,226,100]]</td>\n",
       "    </tr>\n",
       "    <tr>\n",
       "      <th>4</th>\n",
       "      <td>[[Sep 01, 2020]]</td>\n",
       "      <td>[[3,489.58]]</td>\n",
       "      <td>[[3,552.25]]</td>\n",
       "      <td>[[2,871.00]]</td>\n",
       "      <td>[[3,148.73]]</td>\n",
       "      <td>[[3,148.73]]</td>\n",
       "      <td>[[115,899,300]]</td>\n",
       "    </tr>\n",
       "    <tr>\n",
       "      <th>5</th>\n",
       "      <td>[[Aug 01, 2020]]</td>\n",
       "      <td>[[3,180.51]]</td>\n",
       "      <td>[[3,495.00]]</td>\n",
       "      <td>[[3,073.00]]</td>\n",
       "      <td>[[3,450.96]]</td>\n",
       "      <td>[[3,450.96]]</td>\n",
       "      <td>[[83,516,600]]</td>\n",
       "    </tr>\n",
       "    <tr>\n",
       "      <th>6</th>\n",
       "      <td>[[Jul 01, 2020]]</td>\n",
       "      <td>[[2,757.99]]</td>\n",
       "      <td>[[3,344.29]]</td>\n",
       "      <td>[[2,754.00]]</td>\n",
       "      <td>[[3,164.68]]</td>\n",
       "      <td>[[3,164.68]]</td>\n",
       "      <td>[[127,502,000]]</td>\n",
       "    </tr>\n",
       "    <tr>\n",
       "      <th>7</th>\n",
       "      <td>[[Jun 01, 2020]]</td>\n",
       "      <td>[[2,448.00]]</td>\n",
       "      <td>[[2,796.00]]</td>\n",
       "      <td>[[2,437.13]]</td>\n",
       "      <td>[[2,758.82]]</td>\n",
       "      <td>[[2,758.82]]</td>\n",
       "      <td>[[87,818,300]]</td>\n",
       "    </tr>\n",
       "    <tr>\n",
       "      <th>8</th>\n",
       "      <td>[[May 01, 2020]]</td>\n",
       "      <td>[[2,336.80]]</td>\n",
       "      <td>[[2,525.45]]</td>\n",
       "      <td>[[2,256.38]]</td>\n",
       "      <td>[[2,442.37]]</td>\n",
       "      <td>[[2,442.37]]</td>\n",
       "      <td>[[82,584,400]]</td>\n",
       "    </tr>\n",
       "    <tr>\n",
       "      <th>9</th>\n",
       "      <td>[[Apr 01, 2020]]</td>\n",
       "      <td>[[1,932.97]]</td>\n",
       "      <td>[[2,475.00]]</td>\n",
       "      <td>[[1,889.15]]</td>\n",
       "      <td>[[2,474.00]]</td>\n",
       "      <td>[[2,474.00]]</td>\n",
       "      <td>[[124,609,800]]</td>\n",
       "    </tr>\n",
       "    <tr>\n",
       "      <th>10</th>\n",
       "      <td>[[Mar 01, 2020]]</td>\n",
       "      <td>[[1,906.49]]</td>\n",
       "      <td>[[1,996.33]]</td>\n",
       "      <td>[[1,626.03]]</td>\n",
       "      <td>[[1,949.72]]</td>\n",
       "      <td>[[1,949.72]]</td>\n",
       "      <td>[[163,809,100]]</td>\n",
       "    </tr>\n",
       "    <tr>\n",
       "      <th>11</th>\n",
       "      <td>[[Feb 01, 2020]]</td>\n",
       "      <td>[[2,010.60]]</td>\n",
       "      <td>[[2,185.95]]</td>\n",
       "      <td>[[1,811.13]]</td>\n",
       "      <td>[[1,883.75]]</td>\n",
       "      <td>[[1,883.75]]</td>\n",
       "      <td>[[92,510,100]]</td>\n",
       "    </tr>\n",
       "    <tr>\n",
       "      <th>12</th>\n",
       "      <td>[[Jan 01, 2020]]</td>\n",
       "      <td>[[1,875.00]]</td>\n",
       "      <td>[[2,055.72]]</td>\n",
       "      <td>[[1,815.34]]</td>\n",
       "      <td>[[2,008.72]]</td>\n",
       "      <td>[[2,008.72]]</td>\n",
       "      <td>[[84,698,300]]</td>\n",
       "    </tr>\n",
       "    <tr>\n",
       "      <th>13</th>\n",
       "      <td>[[Dec 01, 2019]]</td>\n",
       "      <td>[[1,804.40]]</td>\n",
       "      <td>[[1,901.40]]</td>\n",
       "      <td>[[1,735.00]]</td>\n",
       "      <td>[[1,847.84]]</td>\n",
       "      <td>[[1,847.84]]</td>\n",
       "      <td>[[68,149,600]]</td>\n",
       "    </tr>\n",
       "    <tr>\n",
       "      <th>14</th>\n",
       "      <td>[[Nov 01, 2019]]</td>\n",
       "      <td>[[1,788.01]]</td>\n",
       "      <td>[[1,824.69]]</td>\n",
       "      <td>[[1,722.71]]</td>\n",
       "      <td>[[1,800.80]]</td>\n",
       "      <td>[[1,800.80]]</td>\n",
       "      <td>[[52,076,200]]</td>\n",
       "    </tr>\n",
       "    <tr>\n",
       "      <th>15</th>\n",
       "      <td>[[Oct 01, 2019]]</td>\n",
       "      <td>[[1,746.00]]</td>\n",
       "      <td>[[1,798.85]]</td>\n",
       "      <td>[[1,685.06]]</td>\n",
       "      <td>[[1,776.66]]</td>\n",
       "      <td>[[1,776.66]]</td>\n",
       "      <td>[[70,360,500]]</td>\n",
       "    </tr>\n",
       "    <tr>\n",
       "      <th>16</th>\n",
       "      <td>[[Sep 01, 2019]]</td>\n",
       "      <td>[[1,770.00]]</td>\n",
       "      <td>[[1,853.66]]</td>\n",
       "      <td>[[1,709.22]]</td>\n",
       "      <td>[[1,735.91]]</td>\n",
       "      <td>[[1,735.91]]</td>\n",
       "      <td>[[61,172,900]]</td>\n",
       "    </tr>\n",
       "    <tr>\n",
       "      <th>17</th>\n",
       "      <td>[[Aug 01, 2019]]</td>\n",
       "      <td>[[1,871.72]]</td>\n",
       "      <td>[[1,897.92]]</td>\n",
       "      <td>[[1,743.51]]</td>\n",
       "      <td>[[1,776.29]]</td>\n",
       "      <td>[[1,776.29]]</td>\n",
       "      <td>[[79,771,200]]</td>\n",
       "    </tr>\n",
       "    <tr>\n",
       "      <th>18</th>\n",
       "      <td>[[Jul 01, 2019]]</td>\n",
       "      <td>[[1,922.98]]</td>\n",
       "      <td>[[2,035.80]]</td>\n",
       "      <td>[[1,849.44]]</td>\n",
       "      <td>[[1,866.78]]</td>\n",
       "      <td>[[1,866.78]]</td>\n",
       "      <td>[[73,148,800]]</td>\n",
       "    </tr>\n",
       "    <tr>\n",
       "      <th>19</th>\n",
       "      <td>[[Jun 01, 2019]]</td>\n",
       "      <td>[[1,760.01]]</td>\n",
       "      <td>[[1,935.20]]</td>\n",
       "      <td>[[1,672.00]]</td>\n",
       "      <td>[[1,893.63]]</td>\n",
       "      <td>[[1,893.63]]</td>\n",
       "      <td>[[74,746,500]]</td>\n",
       "    </tr>\n",
       "    <tr>\n",
       "      <th>20</th>\n",
       "      <td>[[May 01, 2019]]</td>\n",
       "      <td>[[1,933.09]]</td>\n",
       "      <td>[[1,964.40]]</td>\n",
       "      <td>[[1,772.70]]</td>\n",
       "      <td>[[1,775.07]]</td>\n",
       "      <td>[[1,775.07]]</td>\n",
       "      <td>[[98,214,400]]</td>\n",
       "    </tr>\n",
       "    <tr>\n",
       "      <th>21</th>\n",
       "      <td>[[Apr 01, 2019]]</td>\n",
       "      <td>[[1,800.11]]</td>\n",
       "      <td>[[1,956.34]]</td>\n",
       "      <td>[[1,798.73]]</td>\n",
       "      <td>[[1,926.52]]</td>\n",
       "      <td>[[1,926.52]]</td>\n",
       "      <td>[[81,239,200]]</td>\n",
       "    </tr>\n",
       "    <tr>\n",
       "      <th>22</th>\n",
       "      <td>[[Mar 01, 2019]]</td>\n",
       "      <td>[[1,655.13]]</td>\n",
       "      <td>[[1,823.75]]</td>\n",
       "      <td>[[1,586.57]]</td>\n",
       "      <td>[[1,780.75]]</td>\n",
       "      <td>[[1,780.75]]</td>\n",
       "      <td>[[100,832,200]]</td>\n",
       "    </tr>\n",
       "    <tr>\n",
       "      <th>23</th>\n",
       "      <td>[[Feb 01, 2019]]</td>\n",
       "      <td>[[1,638.88]]</td>\n",
       "      <td>[[1,673.06]]</td>\n",
       "      <td>[[1,566.76]]</td>\n",
       "      <td>[[1,639.83]]</td>\n",
       "      <td>[[1,639.83]]</td>\n",
       "      <td>[[80,936,900]]</td>\n",
       "    </tr>\n",
       "    <tr>\n",
       "      <th>24</th>\n",
       "      <td>[[Jan 01, 2019]]</td>\n",
       "      <td>[[1,465.20]]</td>\n",
       "      <td>[[1,736.41]]</td>\n",
       "      <td>[[1,460.93]]</td>\n",
       "      <td>[[1,718.73]]</td>\n",
       "      <td>[[1,718.73]]</td>\n",
       "      <td>[[134,001,700]]</td>\n",
       "    </tr>\n",
       "  </tbody>\n",
       "</table>\n",
       "</div>"
      ],
      "text/plain": [
       "                Date          Open          High           Low         Close  \\\n",
       "0   [[Jan 01, 2021]]  [[3,270.00]]  [[3,363.89]]  [[3,086.00]]  [[3,206.20]]   \n",
       "1   [[Dec 01, 2020]]  [[3,188.50]]  [[3,350.65]]  [[3,072.82]]  [[3,256.93]]   \n",
       "2   [[Nov 01, 2020]]  [[3,061.74]]  [[3,366.80]]  [[2,950.12]]  [[3,168.04]]   \n",
       "3   [[Oct 01, 2020]]  [[3,208.00]]  [[3,496.24]]  [[3,019.00]]  [[3,036.15]]   \n",
       "4   [[Sep 01, 2020]]  [[3,489.58]]  [[3,552.25]]  [[2,871.00]]  [[3,148.73]]   \n",
       "5   [[Aug 01, 2020]]  [[3,180.51]]  [[3,495.00]]  [[3,073.00]]  [[3,450.96]]   \n",
       "6   [[Jul 01, 2020]]  [[2,757.99]]  [[3,344.29]]  [[2,754.00]]  [[3,164.68]]   \n",
       "7   [[Jun 01, 2020]]  [[2,448.00]]  [[2,796.00]]  [[2,437.13]]  [[2,758.82]]   \n",
       "8   [[May 01, 2020]]  [[2,336.80]]  [[2,525.45]]  [[2,256.38]]  [[2,442.37]]   \n",
       "9   [[Apr 01, 2020]]  [[1,932.97]]  [[2,475.00]]  [[1,889.15]]  [[2,474.00]]   \n",
       "10  [[Mar 01, 2020]]  [[1,906.49]]  [[1,996.33]]  [[1,626.03]]  [[1,949.72]]   \n",
       "11  [[Feb 01, 2020]]  [[2,010.60]]  [[2,185.95]]  [[1,811.13]]  [[1,883.75]]   \n",
       "12  [[Jan 01, 2020]]  [[1,875.00]]  [[2,055.72]]  [[1,815.34]]  [[2,008.72]]   \n",
       "13  [[Dec 01, 2019]]  [[1,804.40]]  [[1,901.40]]  [[1,735.00]]  [[1,847.84]]   \n",
       "14  [[Nov 01, 2019]]  [[1,788.01]]  [[1,824.69]]  [[1,722.71]]  [[1,800.80]]   \n",
       "15  [[Oct 01, 2019]]  [[1,746.00]]  [[1,798.85]]  [[1,685.06]]  [[1,776.66]]   \n",
       "16  [[Sep 01, 2019]]  [[1,770.00]]  [[1,853.66]]  [[1,709.22]]  [[1,735.91]]   \n",
       "17  [[Aug 01, 2019]]  [[1,871.72]]  [[1,897.92]]  [[1,743.51]]  [[1,776.29]]   \n",
       "18  [[Jul 01, 2019]]  [[1,922.98]]  [[2,035.80]]  [[1,849.44]]  [[1,866.78]]   \n",
       "19  [[Jun 01, 2019]]  [[1,760.01]]  [[1,935.20]]  [[1,672.00]]  [[1,893.63]]   \n",
       "20  [[May 01, 2019]]  [[1,933.09]]  [[1,964.40]]  [[1,772.70]]  [[1,775.07]]   \n",
       "21  [[Apr 01, 2019]]  [[1,800.11]]  [[1,956.34]]  [[1,798.73]]  [[1,926.52]]   \n",
       "22  [[Mar 01, 2019]]  [[1,655.13]]  [[1,823.75]]  [[1,586.57]]  [[1,780.75]]   \n",
       "23  [[Feb 01, 2019]]  [[1,638.88]]  [[1,673.06]]  [[1,566.76]]  [[1,639.83]]   \n",
       "24  [[Jan 01, 2019]]  [[1,465.20]]  [[1,736.41]]  [[1,460.93]]  [[1,718.73]]   \n",
       "\n",
       "       Adj Close           Volume  \n",
       "0   [[3,206.20]]   [[71,528,900]]  \n",
       "1   [[3,256.93]]   [[77,556,200]]  \n",
       "2   [[3,168.04]]   [[90,810,500]]  \n",
       "3   [[3,036.15]]  [[116,226,100]]  \n",
       "4   [[3,148.73]]  [[115,899,300]]  \n",
       "5   [[3,450.96]]   [[83,516,600]]  \n",
       "6   [[3,164.68]]  [[127,502,000]]  \n",
       "7   [[2,758.82]]   [[87,818,300]]  \n",
       "8   [[2,442.37]]   [[82,584,400]]  \n",
       "9   [[2,474.00]]  [[124,609,800]]  \n",
       "10  [[1,949.72]]  [[163,809,100]]  \n",
       "11  [[1,883.75]]   [[92,510,100]]  \n",
       "12  [[2,008.72]]   [[84,698,300]]  \n",
       "13  [[1,847.84]]   [[68,149,600]]  \n",
       "14  [[1,800.80]]   [[52,076,200]]  \n",
       "15  [[1,776.66]]   [[70,360,500]]  \n",
       "16  [[1,735.91]]   [[61,172,900]]  \n",
       "17  [[1,776.29]]   [[79,771,200]]  \n",
       "18  [[1,866.78]]   [[73,148,800]]  \n",
       "19  [[1,893.63]]   [[74,746,500]]  \n",
       "20  [[1,775.07]]   [[98,214,400]]  \n",
       "21  [[1,926.52]]   [[81,239,200]]  \n",
       "22  [[1,780.75]]  [[100,832,200]]  \n",
       "23  [[1,639.83]]   [[80,936,900]]  \n",
       "24  [[1,718.73]]  [[134,001,700]]  "
      ]
     },
     "execution_count": 23,
     "metadata": {},
     "output_type": "execute_result"
    }
   ],
   "source": [
    "amazon_data.head(25)"
   ]
  },
  {
   "cell_type": "markdown",
   "metadata": {},
   "source": [
    "<h2>About the Authors:</h2> \n",
    "\n",
    "<a href=\"https://www.linkedin.com/in/joseph-s-50398b136/\">Joseph Santarcangelo</a> has a PhD in Electrical Engineering, his research focused on using machine learning, signal processing, and computer vision to determine how videos impact human cognition. Joseph has been working for IBM since he completed his PhD.\n",
    "\n",
    "Azim Hirjani<br>\n",
    "Akansha yadav\n"
   ]
  },
  {
   "cell_type": "markdown",
   "metadata": {},
   "source": [
    "## Change Log\n",
    "\n",
    "| Date (YYYY-MM-DD) | Version | Changed By    |       Change Description              |\n",
    "| ----------------- | ------- | ------------- | ------------------------------------- |\n",
    "|  02-05-2023       |   1.3   | Akansha yadav | Updated Lab content under maintenance |\n",
    "|  2021-06-09       | 1.2     | Lakshmi Holla |   Added URL in question 3             |\n",
    "|  2020-11-10       | 1.1     | Malika Singla |   Deleted the Optional part           |\n",
    "|  2020-08-27       | 1.0     | Malika Singla |   Added lab to GitLab                 |\n",
    "\n",
    "<hr>\n",
    "\n",
    "## <h3 align=\"center\"> © IBM Corporation 2020. All rights reserved. <h3/>\n",
    "\n",
    "<p>\n"
   ]
  }
 ],
 "metadata": {
  "kernelspec": {
   "display_name": "Python",
   "language": "python",
   "name": "conda-env-python-py"
  },
  "language_info": {
   "codemirror_mode": {
    "name": "ipython",
    "version": 3
   },
   "file_extension": ".py",
   "mimetype": "text/x-python",
   "name": "python",
   "nbconvert_exporter": "python",
   "pygments_lexer": "ipython3",
   "version": "3.7.12"
  }
 },
 "nbformat": 4,
 "nbformat_minor": 4
}
